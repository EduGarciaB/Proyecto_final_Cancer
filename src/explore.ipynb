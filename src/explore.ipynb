{
    "cells": [
        {
            "cell_type": "markdown",
            "metadata": {},
            "source": [
                "# Explore here"
            ]
        },
        {
            "cell_type": "markdown",
            "metadata": {},
            "source": [
                "Usaremos la API de Kaggle para descargar los datos del proyecto"
            ]
        },
        {
            "cell_type": "code",
            "execution_count": 44,
            "metadata": {},
            "outputs": [],
            "source": [
                "#Librerias\n",
                "import pandas as pd\n",
                "import matplotlib.pyplot as plt\n",
                "import seaborn as sns\n",
                "import os"
            ]
        },
        {
            "cell_type": "code",
            "execution_count": null,
            "metadata": {},
            "outputs": [],
            "source": [
                "# ya que hemos instalado la API de Kaggle procedmos a descrgar los archivos\n",
                "'''\n",
                "import os\n",
                "\n",
                "# Nombre de la competencia en Kaggle\n",
                "competition = 'isic-2024-challenge'\n",
                "\n",
                "# Carpeta donde guardar los archivos descargados\n",
                "download_folder = '/Users/luiseduardogarciablanco/Desktop/bootcamp/Archivos proyecto cancer/descargas_isic2024'\n",
                "os.makedirs(download_folder, exist_ok=True)\n",
                "\n",
                "# Comando para descargar los datos\n",
                "os.system(f'kaggle competitions download -c {competition} -p \"{download_folder}\"')\n",
                "\n",
                "print(f'Datos descargados y guardados en {download_folder}')\n",
                "'''"
            ]
        },
        {
            "cell_type": "code",
            "execution_count": 45,
            "metadata": {},
            "outputs": [
                {
                    "name": "stdout",
                    "output_type": "stream",
                    "text": [
                        ".DS_Store\n",
                        "train-image\n",
                        "train-metadata.csv\n",
                        "test-image.hdf5\n",
                        "train-image.hdf5\n",
                        "test-metadata.csv\n",
                        "sample_submission.csv\n"
                    ]
                }
            ],
            "source": [
                "#comprobamos la existencia de los archivos descargados\n",
                "\n",
                "import os\n",
                "\n",
                "download_folder = '/Users/luiseduardogarciablanco/Desktop/bootcamp/Archivos_proyecto_cancer/isic-2024-challenge'\n",
                "\n",
                "for file_name in os.listdir(download_folder):\n",
                "    print(file_name)"
            ]
        },
        {
            "cell_type": "code",
            "execution_count": 46,
            "metadata": {},
            "outputs": [
                {
                    "name": "stdout",
                    "output_type": "stream",
                    "text": [
                        "        isic_id  target  patient_id  age_approx   sex anatom_site_general  \\\n",
                        "0  ISIC_0015670       0  IP_1235828        60.0  male     lower extremity   \n",
                        "1  ISIC_0015845       0  IP_8170065        60.0  male           head/neck   \n",
                        "2  ISIC_0015864       0  IP_6724798        60.0  male     posterior torso   \n",
                        "3  ISIC_0015902       0  IP_4111386        65.0  male      anterior torso   \n",
                        "4  ISIC_0024200       0  IP_8313778        55.0  male      anterior torso   \n",
                        "\n",
                        "   clin_size_long_diam_mm          image_type tbp_tile_type   tbp_lv_A  ...  \\\n",
                        "0                    3.04  TBP tile: close-up     3D: white  20.244422  ...   \n",
                        "1                    1.10  TBP tile: close-up     3D: white  31.712570  ...   \n",
                        "2                    3.40  TBP tile: close-up        3D: XP  22.575830  ...   \n",
                        "3                    3.22  TBP tile: close-up        3D: XP  14.242329  ...   \n",
                        "4                    2.73  TBP tile: close-up     3D: white  24.725520  ...   \n",
                        "\n",
                        "    lesion_id  iddx_full  iddx_1  iddx_2  iddx_3  iddx_4  iddx_5  \\\n",
                        "0         NaN     Benign  Benign     NaN     NaN     NaN     NaN   \n",
                        "1  IL_6727506     Benign  Benign     NaN     NaN     NaN     NaN   \n",
                        "2         NaN     Benign  Benign     NaN     NaN     NaN     NaN   \n",
                        "3         NaN     Benign  Benign     NaN     NaN     NaN     NaN   \n",
                        "4         NaN     Benign  Benign     NaN     NaN     NaN     NaN   \n",
                        "\n",
                        "   mel_mitotic_index  mel_thick_mm  tbp_lv_dnn_lesion_confidence  \n",
                        "0                NaN           NaN                     97.517282  \n",
                        "1                NaN           NaN                      3.141455  \n",
                        "2                NaN           NaN                     99.804040  \n",
                        "3                NaN           NaN                     99.989998  \n",
                        "4                NaN           NaN                     70.442510  \n",
                        "\n",
                        "[5 rows x 55 columns]\n"
                    ]
                },
                {
                    "name": "stderr",
                    "output_type": "stream",
                    "text": [
                        "/var/folders/sc/w6cv9_291mqc4c1m0qn06_4m0000gn/T/ipykernel_77534/1850771593.py:7: DtypeWarning: Columns (51,52) have mixed types. Specify dtype option on import or set low_memory=False.\n",
                        "  metadata = pd.read_csv(file_path)\n"
                    ]
                }
            ],
            "source": [
                "#una vez descargado cargamos el csv y revisamos\n",
                "\n",
                "# Ruta del archivo CSV\n",
                "file_path = '/Users/luiseduardogarciablanco/Desktop/bootcamp/Proyecto_Final_Cancer/data/raw/train-metadata.csv'\n",
                "\n",
                "# Cargar el archivo CSV en un DataFrame\n",
                "metadata = pd.read_csv(file_path)\n",
                "\n",
                "# Ver las primeras filas del DataFrame\n",
                "print(metadata.head())"
            ]
        },
        {
            "cell_type": "code",
            "execution_count": 47,
            "metadata": {},
            "outputs": [
                {
                    "name": "stdout",
                    "output_type": "stream",
                    "text": [
                        "Tamaño del DataFrame: (401059, 55)\n",
                        "<class 'pandas.core.frame.DataFrame'>\n",
                        "RangeIndex: 401059 entries, 0 to 401058\n",
                        "Data columns (total 55 columns):\n",
                        " #   Column                        Non-Null Count   Dtype  \n",
                        "---  ------                        --------------   -----  \n",
                        " 0   isic_id                       401059 non-null  object \n",
                        " 1   target                        401059 non-null  int64  \n",
                        " 2   patient_id                    401059 non-null  object \n",
                        " 3   age_approx                    398261 non-null  float64\n",
                        " 4   sex                           389542 non-null  object \n",
                        " 5   anatom_site_general           395303 non-null  object \n",
                        " 6   clin_size_long_diam_mm        401059 non-null  float64\n",
                        " 7   image_type                    401059 non-null  object \n",
                        " 8   tbp_tile_type                 401059 non-null  object \n",
                        " 9   tbp_lv_A                      401059 non-null  float64\n",
                        " 10  tbp_lv_Aext                   401059 non-null  float64\n",
                        " 11  tbp_lv_B                      401059 non-null  float64\n",
                        " 12  tbp_lv_Bext                   401059 non-null  float64\n",
                        " 13  tbp_lv_C                      401059 non-null  float64\n",
                        " 14  tbp_lv_Cext                   401059 non-null  float64\n",
                        " 15  tbp_lv_H                      401059 non-null  float64\n",
                        " 16  tbp_lv_Hext                   401059 non-null  float64\n",
                        " 17  tbp_lv_L                      401059 non-null  float64\n",
                        " 18  tbp_lv_Lext                   401059 non-null  float64\n",
                        " 19  tbp_lv_areaMM2                401059 non-null  float64\n",
                        " 20  tbp_lv_area_perim_ratio       401059 non-null  float64\n",
                        " 21  tbp_lv_color_std_mean         401059 non-null  float64\n",
                        " 22  tbp_lv_deltaA                 401059 non-null  float64\n",
                        " 23  tbp_lv_deltaB                 401059 non-null  float64\n",
                        " 24  tbp_lv_deltaL                 401059 non-null  float64\n",
                        " 25  tbp_lv_deltaLB                401059 non-null  float64\n",
                        " 26  tbp_lv_deltaLBnorm            401059 non-null  float64\n",
                        " 27  tbp_lv_eccentricity           401059 non-null  float64\n",
                        " 28  tbp_lv_location               401059 non-null  object \n",
                        " 29  tbp_lv_location_simple        401059 non-null  object \n",
                        " 30  tbp_lv_minorAxisMM            401059 non-null  float64\n",
                        " 31  tbp_lv_nevi_confidence        401059 non-null  float64\n",
                        " 32  tbp_lv_norm_border            401059 non-null  float64\n",
                        " 33  tbp_lv_norm_color             401059 non-null  float64\n",
                        " 34  tbp_lv_perimeterMM            401059 non-null  float64\n",
                        " 35  tbp_lv_radial_color_std_max   401059 non-null  float64\n",
                        " 36  tbp_lv_stdL                   401059 non-null  float64\n",
                        " 37  tbp_lv_stdLExt                401059 non-null  float64\n",
                        " 38  tbp_lv_symm_2axis             401059 non-null  float64\n",
                        " 39  tbp_lv_symm_2axis_angle       401059 non-null  int64  \n",
                        " 40  tbp_lv_x                      401059 non-null  float64\n",
                        " 41  tbp_lv_y                      401059 non-null  float64\n",
                        " 42  tbp_lv_z                      401059 non-null  float64\n",
                        " 43  attribution                   401059 non-null  object \n",
                        " 44  copyright_license             401059 non-null  object \n",
                        " 45  lesion_id                     22058 non-null   object \n",
                        " 46  iddx_full                     401059 non-null  object \n",
                        " 47  iddx_1                        401059 non-null  object \n",
                        " 48  iddx_2                        1068 non-null    object \n",
                        " 49  iddx_3                        1065 non-null    object \n",
                        " 50  iddx_4                        551 non-null     object \n",
                        " 51  iddx_5                        1 non-null       object \n",
                        " 52  mel_mitotic_index             53 non-null      object \n",
                        " 53  mel_thick_mm                  63 non-null      float64\n",
                        " 54  tbp_lv_dnn_lesion_confidence  401059 non-null  float64\n",
                        "dtypes: float64(35), int64(2), object(18)\n",
                        "memory usage: 168.3+ MB\n",
                        "None\n",
                        "              target     age_approx  clin_size_long_diam_mm       tbp_lv_A  \\\n",
                        "count  401059.000000  398261.000000           401059.000000  401059.000000   \n",
                        "mean        0.000980      58.012986                3.930827      19.974007   \n",
                        "std         0.031288      13.596165                1.743068       3.999489   \n",
                        "min         0.000000       5.000000                1.000000      -2.487115   \n",
                        "25%         0.000000      50.000000                2.840000      17.330821   \n",
                        "50%         0.000000      60.000000                3.370000      19.801910   \n",
                        "75%         0.000000      70.000000                4.380000      22.304628   \n",
                        "max         1.000000      85.000000               28.400000      48.189610   \n",
                        "\n",
                        "         tbp_lv_Aext       tbp_lv_B    tbp_lv_Bext       tbp_lv_C  \\\n",
                        "count  401059.000000  401059.000000  401059.000000  401059.000000   \n",
                        "mean       14.919247      28.281706      26.913015      34.786341   \n",
                        "std         3.529384       5.278676       4.482994       5.708469   \n",
                        "min        -9.080269      -0.730989       9.237066       3.054228   \n",
                        "25%        12.469740      24.704372      23.848125      31.003148   \n",
                        "50%        14.713930      28.171570      26.701704      34.822580   \n",
                        "75%        17.137175      31.637429      29.679913      38.430298   \n",
                        "max        37.021680      54.306900      48.372700      58.765170   \n",
                        "\n",
                        "         tbp_lv_Cext       tbp_lv_H  ...  tbp_lv_radial_color_std_max  \\\n",
                        "count  401059.000000  401059.000000  ...                401059.000000   \n",
                        "mean       30.921279      54.653689  ...                     1.016459   \n",
                        "std         4.829345       5.520849  ...                     0.734631   \n",
                        "min        11.846520      -1.574164  ...                     0.000000   \n",
                        "25%        27.658285      51.566273  ...                     0.563891   \n",
                        "50%        30.804893      55.035632  ...                     0.902281   \n",
                        "75%        33.963868      58.298184  ...                     1.334523   \n",
                        "max        54.305290     105.875784  ...                    11.491140   \n",
                        "\n",
                        "         tbp_lv_stdL  tbp_lv_stdLExt  tbp_lv_symm_2axis  \\\n",
                        "count  401059.000000   401059.000000      401059.000000   \n",
                        "mean        2.715190        2.238605           0.306823   \n",
                        "std         1.738165        0.623884           0.125038   \n",
                        "min         0.268160        0.636247           0.052034   \n",
                        "25%         1.456570        1.834745           0.211429   \n",
                        "50%         2.186693        2.149758           0.282297   \n",
                        "75%         3.474565        2.531443           0.382022   \n",
                        "max        17.563650       25.534791           0.977055   \n",
                        "\n",
                        "       tbp_lv_symm_2axis_angle       tbp_lv_x       tbp_lv_y       tbp_lv_z  \\\n",
                        "count            401059.000000  401059.000000  401059.000000  401059.000000   \n",
                        "mean                 86.332073      -3.091862    1039.598221      55.823389   \n",
                        "std                  52.559511     197.257995     409.819653      87.968245   \n",
                        "min                   0.000000    -624.870728   -1052.134000    -291.890442   \n",
                        "25%                  40.000000    -147.022125     746.519673      -8.962647   \n",
                        "50%                  90.000000      -5.747253    1172.803000      67.957947   \n",
                        "75%                 130.000000     140.474835    1342.131540     126.611567   \n",
                        "max                 175.000000     614.471700    1887.766846     319.407000   \n",
                        "\n",
                        "       mel_thick_mm  tbp_lv_dnn_lesion_confidence  \n",
                        "count     63.000000                  4.010590e+05  \n",
                        "mean       0.670952                  9.716220e+01  \n",
                        "std        0.792798                  8.995782e+00  \n",
                        "min        0.200000                  1.261082e-16  \n",
                        "25%        0.300000                  9.966882e+01  \n",
                        "50%        0.400000                  9.999459e+01  \n",
                        "75%        0.600000                  9.999996e+01  \n",
                        "max        5.000000                  1.000000e+02  \n",
                        "\n",
                        "[8 rows x 37 columns]\n",
                        "isic_id                              0\n",
                        "target                               0\n",
                        "patient_id                           0\n",
                        "age_approx                        2798\n",
                        "sex                              11517\n",
                        "anatom_site_general               5756\n",
                        "clin_size_long_diam_mm               0\n",
                        "image_type                           0\n",
                        "tbp_tile_type                        0\n",
                        "tbp_lv_A                             0\n",
                        "tbp_lv_Aext                          0\n",
                        "tbp_lv_B                             0\n",
                        "tbp_lv_Bext                          0\n",
                        "tbp_lv_C                             0\n",
                        "tbp_lv_Cext                          0\n",
                        "tbp_lv_H                             0\n",
                        "tbp_lv_Hext                          0\n",
                        "tbp_lv_L                             0\n",
                        "tbp_lv_Lext                          0\n",
                        "tbp_lv_areaMM2                       0\n",
                        "tbp_lv_area_perim_ratio              0\n",
                        "tbp_lv_color_std_mean                0\n",
                        "tbp_lv_deltaA                        0\n",
                        "tbp_lv_deltaB                        0\n",
                        "tbp_lv_deltaL                        0\n",
                        "tbp_lv_deltaLB                       0\n",
                        "tbp_lv_deltaLBnorm                   0\n",
                        "tbp_lv_eccentricity                  0\n",
                        "tbp_lv_location                      0\n",
                        "tbp_lv_location_simple               0\n",
                        "tbp_lv_minorAxisMM                   0\n",
                        "tbp_lv_nevi_confidence               0\n",
                        "tbp_lv_norm_border                   0\n",
                        "tbp_lv_norm_color                    0\n",
                        "tbp_lv_perimeterMM                   0\n",
                        "tbp_lv_radial_color_std_max          0\n",
                        "tbp_lv_stdL                          0\n",
                        "tbp_lv_stdLExt                       0\n",
                        "tbp_lv_symm_2axis                    0\n",
                        "tbp_lv_symm_2axis_angle              0\n",
                        "tbp_lv_x                             0\n",
                        "tbp_lv_y                             0\n",
                        "tbp_lv_z                             0\n",
                        "attribution                          0\n",
                        "copyright_license                    0\n",
                        "lesion_id                       379001\n",
                        "iddx_full                            0\n",
                        "iddx_1                               0\n",
                        "iddx_2                          399991\n",
                        "iddx_3                          399994\n",
                        "iddx_4                          400508\n",
                        "iddx_5                          401058\n",
                        "mel_mitotic_index               401006\n",
                        "mel_thick_mm                    400996\n",
                        "tbp_lv_dnn_lesion_confidence         0\n",
                        "dtype: int64\n"
                    ]
                }
            ],
            "source": [
                "# Tamaño del DataFrame\n",
                "print(\"Tamaño del DataFrame:\", metadata.shape)\n",
                "\n",
                "# Información sobre las columnas y tipos de datos\n",
                "print(metadata.info())\n",
                "\n",
                "# Resumen estadístico de las columnas numéricas\n",
                "print(metadata.describe())\n",
                "\n",
                "# Revisión de valores nulos\n",
                "print(metadata.isnull().sum())"
            ]
        },
        {
            "cell_type": "markdown",
            "metadata": {},
            "source": [
                "revisamos la columna patient_id ya que tenemos la certeza de que hay valores duplicados, con seguridad hay muchas muestras que pertenecen al mismo paciente, esto nos ayudará a llenar los datos faltantes"
            ]
        },
        {
            "cell_type": "code",
            "execution_count": 48,
            "metadata": {},
            "outputs": [
                {
                    "name": "stdout",
                    "output_type": "stream",
                    "text": [
                        "Número de pacientes únicos en 'patient_id': 1042\n",
                        "Número total de registros en el DataFrame: 401059\n"
                    ]
                }
            ],
            "source": [
                "# Imprimir el número de registros únicos en la columna 'patient_id'\n",
                "print(f\"Número de pacientes únicos en 'patient_id': {metadata['patient_id'].nunique()}\")\n",
                "\n",
                "# Imprimir el número total de registros en el DataFrame\n",
                "print(f\"Número total de registros en el DataFrame: {len(metadata)}\")"
            ]
        },
        {
            "cell_type": "markdown",
            "metadata": {},
            "source": [
                "Al revisar el Df metadata nos damos cuentas que por ejemplo en la columna \"sex\" faltan datos, lo comprobaremos y llenaremos.\n",
                "\n",
                "verificaremos que tipos de datos contienen la columna y que posiblemente algunos de los registros pertenecientes al mismo paciente les falta el dato \"sex\""
            ]
        },
        {
            "cell_type": "code",
            "execution_count": 49,
            "metadata": {},
            "outputs": [
                {
                    "name": "stdout",
                    "output_type": "stream",
                    "text": [
                        "Valores únicos en 'sex': ['male' 'female' nan]\n",
                        "Frecuencia de cada valor en 'sex':\n",
                        "sex\n",
                        "male      265546\n",
                        "female    123996\n",
                        "Name: count, dtype: int64\n",
                        "Frecuencia de cada valor en 'sex' (incluyendo NaN):\n",
                        "sex\n",
                        "male      265546\n",
                        "female    123996\n",
                        "NaN        11517\n",
                        "Name: count, dtype: int64\n"
                    ]
                }
            ],
            "source": [
                "# Imprimir los valores únicos en la columna 'sex'\n",
                "print(f\"Valores únicos en 'sex': {metadata['sex'].unique()}\")\n",
                "\n",
                "# Imprimir la frecuencia de cada valor en la columna 'sex'\n",
                "print(\"Frecuencia de cada valor en 'sex':\")\n",
                "print(metadata['sex'].value_counts())\n",
                "\n",
                "# Imprimir la frecuencia de cada valor en la columna 'sex', incluyendo los NaN\n",
                "print(\"Frecuencia de cada valor en 'sex' (incluyendo NaN):\")\n",
                "print(metadata['sex'].value_counts(dropna=False))"
            ]
        },
        {
            "cell_type": "code",
            "execution_count": 50,
            "metadata": {},
            "outputs": [
                {
                    "data": {
                        "image/png": "[encoded data removed]",
                        "text/plain": [
                            "<Figure size 640x480 with 1 Axes>"
                        ]
                    },
                    "metadata": {},
                    "output_type": "display_data"
                }
            ],
            "source": [
                "# graficamos para verificar los datos de la columna \"sex\" incluyendo valores NaN como tercera columna\n",
                "\n",
                "# Agregar una categoría 'NaN' para los valores faltantes en 'sex'\n",
                "metadata['sex_nan'] = metadata['sex'].fillna('NaN')\n",
                "\n",
                "# Crear un gráfico de barras de la distribución de 'sex', incluyendo 'NaN'\n",
                "sns.countplot(x='sex_nan', data=metadata, order=metadata['sex_nan'].value_counts().index)\n",
                "plt.title('Distribución de la Columna Sex (incluyendo NaN)')\n",
                "plt.xlabel('Sex')\n",
                "plt.ylabel('Número de Registros')\n",
                "plt.show()"
            ]
        },
        {
            "cell_type": "markdown",
            "metadata": {},
            "source": [
                "vemos que hay valores NaN, como es posible que los valores pertenezcan a un mismo paciente, revisaremos y en caso de que pertenezcan al mismo paciente los completamos con su mismo tipo, en caso de que el registro de un paciente este completamente vacio ( sin determinar el sexo) lo llenaremos con la \"moda\" en la variable "
            ]
        },
        {
            "cell_type": "code",
            "execution_count": 51,
            "metadata": {},
            "outputs": [
                {
                    "name": "stdout",
                    "output_type": "stream",
                    "text": [
                        "La moda de la columna 'sex' es: male\n",
                        "Valores faltantes en 'sex' después de rellenar con la moda: 0\n"
                    ]
                }
            ],
            "source": [
                "\n",
                "# Rellenar valores faltantes basados en el mismo patient_id\n",
                "metadata['sex'] = metadata.groupby('patient_id')['sex'].transform(lambda x: x.fillna(method='ffill').fillna(method='bfill'))\n",
                "\n",
                "#  Calcular la moda de la columna 'sex'\n",
                "sex_moda = metadata['sex'].mode()[0]\n",
                "print(f\"La moda de la columna 'sex' es: {sex_moda}\")\n",
                "\n",
                "# Paso 3: Rellenar los valores faltantes en 'sex' con la moda para los pacientes que tenga la ausencia total del sato \"sex\"\n",
                "metadata['sex'].fillna(sex_moda, inplace=True)\n",
                "\n",
                "# Verificar si aún quedan valores NaN\n",
                "print(f\"Valores faltantes en 'sex' después de rellenar con la moda: {metadata['sex'].isna().sum()}\")"
            ]
        },
        {
            "cell_type": "code",
            "execution_count": 52,
            "metadata": {},
            "outputs": [
                {
                    "name": "stdout",
                    "output_type": "stream",
                    "text": [
                        "Frecuencia de cada valor en 'sex' (incluyendo NaN):\n",
                        "sex\n",
                        "male      277063\n",
                        "female    123996\n",
                        "Name: count, dtype: int64\n"
                    ]
                }
            ],
            "source": [
                "# Imprimir la frecuencia de cada valor en la columna 'sex', incluyendo los NaN\n",
                "print(\"Frecuencia de cada valor en 'sex' (incluyendo NaN):\")\n",
                "print(metadata['sex'].value_counts(dropna=False))"
            ]
        },
        {
            "cell_type": "markdown",
            "metadata": {},
            "source": [
                "haremos lo mismo con la columna age_approx, donde rellenaremos los valores faltantes"
            ]
        },
        {
            "cell_type": "code",
            "execution_count": 53,
            "metadata": {},
            "outputs": [
                {
                    "name": "stdout",
                    "output_type": "stream",
                    "text": [
                        "Tipo de datos de la columna 'age_approx': float64\n",
                        "Tipos de datos distintos en 'age_approx':\n",
                        "age_approx\n",
                        "<class 'float'>    401059\n",
                        "Name: count, dtype: int64\n",
                        "Valores nulos en 'age_approx': 2798\n"
                    ]
                }
            ],
            "source": [
                "# Verificar el tipo de datos de la columna 'age_approx'\n",
                "print(f\"Tipo de datos de la columna 'age_approx': {metadata['age_approx'].dtype}\")\n",
                "\n",
                "# Contar los tipos de datos distintos en la columna 'age_approx'\n",
                "print(f\"Tipos de datos distintos en 'age_approx':\")\n",
                "print(metadata['age_approx'].apply(type).value_counts())\n",
                "\n",
                "# Contar los valores nulos (NaN) en la columna 'age_approx'\n",
                "print(f\"Valores nulos en 'age_approx': {metadata['age_approx'].isna().sum()}\")"
            ]
        },
        {
            "cell_type": "markdown",
            "metadata": {},
            "source": [
                "vemos que existen valores nulos que trataremos de la misma forma que los valores Sex\n",
                "\n",
                "primero graficaremos para visualizar la explicabilidad de los datos"
            ]
        },
        {
            "cell_type": "code",
            "execution_count": 54,
            "metadata": {},
            "outputs": [
                {
                    "data": {
                        "image/png": "[encoded data removed]",
                        "text/plain": [
                            "<Figure size 1200x600 with 1 Axes>"
                        ]
                    },
                    "metadata": {},
                    "output_type": "display_data"
                }
            ],
            "source": [
                "\n",
                "# Crear una columna 'age_approx_nan' para marcar los valores nulos\n",
                "metadata['age_approx_nan'] = metadata['age_approx'].astype(str).replace('nan', 'NaN')\n",
                "\n",
                "\n",
                "# Crear un histograma de la distribución de 'age_approx', incluyendo 'NaN'\n",
                "plt.figure(figsize=(12, 6))\n",
                "\n",
                "sns.histplot(data=metadata, x='age_approx_nan', discrete=True, kde=False, bins=30, color='blue', label='Edad Aproximada')\n",
                "\n",
                "# Añadir una segunda serie para la categoría 'NaN' y colorearla en rojo\n",
                "for age in metadata['age_approx_nan'].unique():\n",
                "    if age == 'NaN':\n",
                "        sns.histplot(metadata[metadata['age_approx_nan'] == 'NaN'], x='age_approx_nan', discrete=True, kde=False, bins=30, color='red', label='NaN')\n",
                "\n",
                "# Añadir título y etiquetas\n",
                "plt.title('Distribución de la Columna age_approx (incluyendo NaN)')\n",
                "plt.xlabel('Edad Aproximada')\n",
                "plt.ylabel('Número de Registros')\n",
                "\n",
                "# Añadir leyenda\n",
                "plt.legend()\n",
                "\n",
                "# Ajustar las etiquetas del eje x para mayor legibilidad\n",
                "plt.xticks(rotation=45)\n",
                "\n",
                "# Mostrar el gráfico\n",
                "plt.show()"
            ]
        },
        {
            "cell_type": "markdown",
            "metadata": {},
            "source": [
                "completamos loa valores nulos"
            ]
        },
        {
            "cell_type": "code",
            "execution_count": 55,
            "metadata": {},
            "outputs": [
                {
                    "name": "stdout",
                    "output_type": "stream",
                    "text": [
                        "La moda de la columna 'age_approx' es: 55.0\n",
                        "Valores nulos en 'age_approx': 0\n"
                    ]
                }
            ],
            "source": [
                "# Rellenar valores faltantes en 'age_approx' basado en el mismo patient_id\n",
                "metadata['age_approx'] = metadata.groupby('patient_id')['age_approx'].transform(lambda x: x.fillna(method='ffill').fillna(method='bfill'))\n",
                "\n",
                "# Calcular la moda de la columna 'age_approx'\n",
                "age_moda = metadata['age_approx'].mode()[0]\n",
                "print(f\"La moda de la columna 'age_approx' es: {age_moda}\")\n",
                "\n",
                "# Rellenar los valores faltantes en 'age_approx' con la moda\n",
                "metadata['age_approx'].fillna(age_moda, inplace=True)\n",
                "\n",
                "# Contar los valores nulos (NaN) en la columna 'age_approx'\n",
                "print(f\"Valores nulos en 'age_approx': {metadata['age_approx'].isna().sum()}\")\n"
            ]
        },
        {
            "cell_type": "markdown",
            "metadata": {},
            "source": [
                "Ahora verificaremos la columna anatom_site_general para la comprobacion de valores nulos y tratarlos"
            ]
        },
        {
            "cell_type": "code",
            "execution_count": 56,
            "metadata": {},
            "outputs": [
                {
                    "name": "stdout",
                    "output_type": "stream",
                    "text": [
                        "Valores únicos en 'anatom_site_general': ['lower extremity' 'head/neck' 'posterior torso' 'anterior torso'\n",
                        " 'upper extremity' nan]\n",
                        "Cantidad de valores nulos en 'anatom_site_general': 5756\n",
                        "Conteo de cada valor único en 'anatom_site_general':\n",
                        "anatom_site_general\n",
                        "posterior torso    121902\n",
                        "lower extremity    103028\n",
                        "anterior torso      87770\n",
                        "upper extremity     70557\n",
                        "head/neck           12046\n",
                        "NaN                  5756\n",
                        "Name: count, dtype: int64\n"
                    ]
                }
            ],
            "source": [
                "# Verificar los valores únicos en la columna 'anatom_site_general'\n",
                "unique_values = metadata['anatom_site_general'].unique()\n",
                "print(f\"Valores únicos en 'anatom_site_general': {unique_values}\")\n",
                "\n",
                "# Contar los valores nulos en la columna 'anatom_site_general'\n",
                "null_count = metadata['anatom_site_general'].isna().sum()\n",
                "print(f\"Cantidad de valores nulos en 'anatom_site_general': {null_count}\")\n",
                "\n",
                "# Verificar el conteo de cada valor único, incluyendo los valores nulos\n",
                "value_counts = metadata['anatom_site_general'].value_counts(dropna=False)\n",
                "print(f\"Conteo de cada valor único en 'anatom_site_general':\\n{value_counts}\")"
            ]
        },
        {
            "cell_type": "markdown",
            "metadata": {},
            "source": [
                "Graficaremos para obtener la explicabilidad de los datos"
            ]
        },
        {
            "cell_type": "code",
            "execution_count": 57,
            "metadata": {},
            "outputs": [
                {
                    "data": {
                        "image/png": "[encoded data removed]",
                        "text/plain": [
                            "<Figure size 640x480 with 1 Axes>"
                        ]
                    },
                    "metadata": {},
                    "output_type": "display_data"
                }
            ],
            "source": [
                "# Crear una columna 'anatom_site_general_nan' para marcar los valores nulos\n",
                "\n",
                "metadata['anatom_site_general_nan'] = metadata['anatom_site_general'].astype(str).replace('nan', 'NaN')\n",
                "\n",
                "# Graficar los valores no nulos en un color\n",
                "\n",
                "sns.countplot(data=metadata[metadata['anatom_site_general_nan'] != 'NaN'], \n",
                "              x='anatom_site_general_nan', \n",
                "              order=metadata['anatom_site_general_nan'].value_counts().index, \n",
                "              palette='Set2', \n",
                "              hue='anatom_site_general_nan')\n",
                "\n",
                "# Graficar los valores nulos en rojo\n",
                "sns.countplot(data=metadata[metadata['anatom_site_general_nan'] == 'NaN'], \n",
                "              x='anatom_site_general_nan', \n",
                "              order=['NaN'], \n",
                "              color='red', \n",
                "              label='NaN')\n",
                "\n",
                "# Añadir título y etiquetas\n",
                "plt.title('Distribución de la Columna anatom_site_general (incluyendo NaN)')\n",
                "plt.xlabel('Anatom site General + NaN')\n",
                "plt.ylabel('Número de Registros')\n",
                "plt.xticks(rotation=45)  # Rotar etiquetas en el eje x para mayor legibilidad\n",
                "plt.legend(title='Categoría')\n",
                "\n",
                "# Mostrar el gráfico\n",
                "plt.show()"
            ]
        },
        {
            "cell_type": "markdown",
            "metadata": {},
            "source": [
                "ya que en cada paciente hay datos de todo tipo y en todas las partes del cuerpo, rellenaremos los datos faltantes con la moda"
            ]
        },
        {
            "cell_type": "code",
            "execution_count": 58,
            "metadata": {},
            "outputs": [
                {
                    "name": "stdout",
                    "output_type": "stream",
                    "text": [
                        "Valores nulos restantes en 'anatom_site_general': 2188\n"
                    ]
                }
            ],
            "source": [
                "'''Aplicar ffill y bfill:\n",
                "\t•\tx.fillna(method='ffill'): Rellena los valores NaN hacia adelante, es decir, con el valor anterior en el grupo.\n",
                "\t•\t.fillna(method='bfill'): Luego rellena los valores NaN que aún queden, pero hacia atrás, con el siguiente valor en el grupo.'''\n",
                "\n",
                "\n",
                "# Rellenar valores NaN en 'anatom_site_general' por patient_id usando ffill y bfill\n",
                "metadata['anatom_site_general'] = metadata.groupby('patient_id')['anatom_site_general'].transform(lambda x: x.fillna(method='ffill').fillna(method='bfill'))\n",
                "\n",
                "# Verificar si aún existen valores nulos en la columna después de rellenar\n",
                "print(\"Valores nulos restantes en 'anatom_site_general':\", metadata['anatom_site_general'].isna().sum())"
            ]
        },
        {
            "cell_type": "markdown",
            "metadata": {},
            "source": [
                "Como aun tenemos valores nulos, quiere decir que existen registros d pacientes dond ningun valor sta asignado a anaton_site_general asi que rellenaremos con moda tomando en cuenta todo el dataset"
            ]
        },
        {
            "cell_type": "code",
            "execution_count": 59,
            "metadata": {},
            "outputs": [
                {
                    "name": "stdout",
                    "output_type": "stream",
                    "text": [
                        "Valores nulos restantes en 'anatom_site_general': 0\n"
                    ]
                }
            ],
            "source": [
                "# Paso 1: Calcular la moda global de la columna 'anatom_site_general'\n",
                "global_mode = metadata['anatom_site_general'].mode()[0]\n",
                "\n",
                "# Paso 2: Rellenar los valores NaN restantes con la moda global\n",
                "metadata['anatom_site_general'].fillna(global_mode, inplace=True)\n",
                "\n",
                "# Verificar si aún existen valores nulos en la columna después de rellenar\n",
                "print(\"Valores nulos restantes en 'anatom_site_general':\", metadata['anatom_site_general'].isna().sum())"
            ]
        },
        {
            "cell_type": "markdown",
            "metadata": {},
            "source": [
                "procedamos a eliminar columnas que aparecen totalmente vacias o con todas las variabls iguales, tambien eliminaremos la columna patient_id"
            ]
        },
        {
            "cell_type": "code",
            "execution_count": 60,
            "metadata": {},
            "outputs": [
                {
                    "name": "stdout",
                    "output_type": "stream",
                    "text": [
                        "Columnas restantes después de la eliminación:\n",
                        "Index(['isic_id', 'target', 'age_approx', 'sex', 'anatom_site_general',\n",
                        "       'clin_size_long_diam_mm', 'tbp_tile_type', 'tbp_lv_A', 'tbp_lv_Aext',\n",
                        "       'tbp_lv_B', 'tbp_lv_Bext', 'tbp_lv_C', 'tbp_lv_Cext', 'tbp_lv_H',\n",
                        "       'tbp_lv_Hext', 'tbp_lv_L', 'tbp_lv_Lext', 'tbp_lv_areaMM2',\n",
                        "       'tbp_lv_area_perim_ratio', 'tbp_lv_color_std_mean', 'tbp_lv_deltaA',\n",
                        "       'tbp_lv_deltaB', 'tbp_lv_deltaL', 'tbp_lv_deltaLB',\n",
                        "       'tbp_lv_deltaLBnorm', 'tbp_lv_eccentricity', 'tbp_lv_location',\n",
                        "       'tbp_lv_location_simple', 'tbp_lv_minorAxisMM',\n",
                        "       'tbp_lv_nevi_confidence', 'tbp_lv_norm_border', 'tbp_lv_norm_color',\n",
                        "       'tbp_lv_perimeterMM', 'tbp_lv_radial_color_std_max', 'tbp_lv_stdL',\n",
                        "       'tbp_lv_stdLExt', 'tbp_lv_symm_2axis', 'tbp_lv_symm_2axis_angle',\n",
                        "       'tbp_lv_x', 'tbp_lv_y', 'tbp_lv_z', 'attribution', 'copyright_license',\n",
                        "       'lesion_id', 'iddx_full', 'iddx_1', 'mel_thick_mm',\n",
                        "       'tbp_lv_dnn_lesion_confidence'],\n",
                        "      dtype='object')\n"
                    ]
                }
            ],
            "source": [
                "# Eliminar las columnas especificadas\n",
                "metadata = metadata.drop(columns=['image_type', 'iddx_2', 'iddx_3','patient_id','mel_mitotic_index','iddx_4','anatom_site_general_nan','age_approx_nan','sex_nan','iddx_5'])\n",
                "\n",
                "# Verificar que las columnas han sido eliminadas\n",
                "print(\"Columnas restantes después de la eliminación:\")\n",
                "print(metadata.columns)"
            ]
        },
        {
            "cell_type": "markdown",
            "metadata": {},
            "source": [
                "ya que esta limpio el dataset, procedemos a cambiar el indice por la columna \"isic_id\" para usarla como referencia ya que coincide con el nombre de las fotos que tenemos como parte del conjunto de entrenamiento y test "
            ]
        },
        {
            "cell_type": "code",
            "execution_count": 61,
            "metadata": {},
            "outputs": [
                {
                    "name": "stdout",
                    "output_type": "stream",
                    "text": [
                        "              target  age_approx   sex anatom_site_general  \\\n",
                        "isic_id                                                      \n",
                        "ISIC_0015670       0        60.0  male     lower extremity   \n",
                        "ISIC_0015845       0        60.0  male           head/neck   \n",
                        "ISIC_0015864       0        60.0  male     posterior torso   \n",
                        "ISIC_0015902       0        65.0  male      anterior torso   \n",
                        "ISIC_0024200       0        55.0  male      anterior torso   \n",
                        "\n",
                        "              clin_size_long_diam_mm tbp_tile_type   tbp_lv_A  tbp_lv_Aext  \\\n",
                        "isic_id                                                                      \n",
                        "ISIC_0015670                    3.04     3D: white  20.244422    16.261975   \n",
                        "ISIC_0015845                    1.10     3D: white  31.712570    25.364740   \n",
                        "ISIC_0015864                    3.40        3D: XP  22.575830    17.128170   \n",
                        "ISIC_0015902                    3.22        3D: XP  14.242329    12.164757   \n",
                        "ISIC_0024200                    2.73     3D: white  24.725520    20.057470   \n",
                        "\n",
                        "               tbp_lv_B  tbp_lv_Bext  ...    tbp_lv_x     tbp_lv_y  \\\n",
                        "isic_id                               ...                            \n",
                        "ISIC_0015670  26.922447    23.954773  ... -182.703552   613.493652   \n",
                        "ISIC_0015845  26.331000    24.549290  ...   -0.078308  1575.687000   \n",
                        "ISIC_0015864  37.970460    33.485410  ...  123.649700  1472.010000   \n",
                        "ISIC_0015902  21.448144    21.121356  ... -141.024780  1442.185791   \n",
                        "ISIC_0024200  26.464900    25.710460  ...  -72.315640  1488.720000   \n",
                        "\n",
                        "                tbp_lv_z                             attribution  \\\n",
                        "isic_id                                                            \n",
                        "ISIC_0015670  -42.427948  Memorial Sloan Kettering Cancer Center   \n",
                        "ISIC_0015845   57.174500  Memorial Sloan Kettering Cancer Center   \n",
                        "ISIC_0015864  232.908900  Memorial Sloan Kettering Cancer Center   \n",
                        "ISIC_0015902   58.359802                              ACEMID MIA   \n",
                        "ISIC_0024200   21.428960  Memorial Sloan Kettering Cancer Center   \n",
                        "\n",
                        "              copyright_license   lesion_id  iddx_full  iddx_1  mel_thick_mm  \\\n",
                        "isic_id                                                                        \n",
                        "ISIC_0015670              CC-BY         NaN     Benign  Benign           NaN   \n",
                        "ISIC_0015845              CC-BY  IL_6727506     Benign  Benign           NaN   \n",
                        "ISIC_0015864              CC-BY         NaN     Benign  Benign           NaN   \n",
                        "ISIC_0015902               CC-0         NaN     Benign  Benign           NaN   \n",
                        "ISIC_0024200              CC-BY         NaN     Benign  Benign           NaN   \n",
                        "\n",
                        "              tbp_lv_dnn_lesion_confidence  \n",
                        "isic_id                                     \n",
                        "ISIC_0015670                     97.517282  \n",
                        "ISIC_0015845                      3.141455  \n",
                        "ISIC_0015864                     99.804040  \n",
                        "ISIC_0015902                     99.989998  \n",
                        "ISIC_0024200                     70.442510  \n",
                        "\n",
                        "[5 rows x 47 columns]\n"
                    ]
                }
            ],
            "source": [
                "\n",
                "# Cambiar el índice a la columna 'isic_id'\n",
                "metadata.set_index('isic_id', inplace=True)\n",
                "\n",
                "# Verificar que el cambio se ha realizado correctamente\n",
                "print(metadata.head())  # Muestra las primeras filas del DataFrame con el nuevo índice"
            ]
        },
        {
            "cell_type": "code",
            "execution_count": 64,
            "metadata": {},
            "outputs": [
                {
                    "name": "stdout",
                    "output_type": "stream",
                    "text": [
                        "El DataFrame ha sido guardado exitosamente en /Users/luiseduardogarciablanco/Desktop/bootcamp/Proyecto_Final_Cancer/data/metadata_limpio.csv\n"
                    ]
                }
            ],
            "source": [
                "# Guardar el DataFrame como un nuevo archivo CSV\n",
                "output_path = '/Users/luiseduardogarciablanco/Desktop/bootcamp/Proyecto_Final_Cancer/data/metadata_limpio.csv'\n",
                "metadata.to_csv(output_path)\n",
                "\n",
                "print(f\"El DataFrame ha sido guardado exitosamente en {output_path}\")"
            ]
        }
    ],
    "metadata": {
        "kernelspec": {
            "display_name": "Python 3.8.13 64-bit ('3.8.13')",
            "language": "python",
            "name": "python3"
        },
        "language_info": {
            "codemirror_mode": {
                "name": "ipython",
                "version": 3
            },
            "file_extension": ".py",
            "mimetype": "text/x-python",
            "name": "python",
            "nbconvert_exporter": "python",
            "pygments_lexer": "ipython3",
            "version": "3.8.19"
        },
        "orig_nbformat": 4,
        "vscode": {
            "interpreter": {
                "hash": "110cc1dee26208153f2972f08a2ad52b6a56238dc66d48e87fb757ef2996db56"
            }
        }
    },
    "nbformat": 4,
    "nbformat_minor": 2
}
