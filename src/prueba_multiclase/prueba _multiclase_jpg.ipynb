{
 "cells": [
  {
   "cell_type": "markdown",
   "metadata": {},
   "source": [
    "aqui probaremos los modelos de reds neuronales entrenando con imagenes, obteniendo como variables target el tipo de lesion, tanto venigna como maligna "
   ]
  },
  {
   "cell_type": "code",
   "execution_count": 37,
   "metadata": {},
   "outputs": [
    {
     "name": "stdout",
     "output_type": "stream",
     "text": [
      "GPUs disponibles: 1\n"
     ]
    }
   ],
   "source": [
    "# Importar las librerías\n",
    "import tensorflow as tf\n",
    "from tensorflow.keras.preprocessing.image import ImageDataGenerator\n",
    "from tensorflow.keras.models import Sequential\n",
    "from tensorflow.keras.layers import Conv2D, MaxPooling2D, Flatten, Dense, Dropout, BatchNormalization\n",
    "from tensorflow.keras.callbacks import EarlyStopping, ReduceLROnPlateau\n",
    "from sklearn.model_selection import train_test_split\n",
    "from sklearn.preprocessing import StandardScaler\n",
    "from sklearn.utils import class_weight\n",
    "import pandas as pd\n",
    "import numpy as np\n",
    "import os\n",
    "import matplotlib.pyplot as plt\n",
    "\n",
    "# Suprimir todos los warnings\n",
    "import warnings\n",
    "warnings.filterwarnings('ignore')\n",
    "\n",
    "# Verificar la GPU disponible\n",
    "print(\"GPUs disponibles:\", len(tf.config.experimental.list_physical_devices('GPU')))\n"
   ]
  },
  {
   "cell_type": "code",
   "execution_count": 39,
   "metadata": {},
   "outputs": [
    {
     "name": "stdout",
     "output_type": "stream",
     "text": [
      "<class 'pandas.core.frame.DataFrame'>\n",
      "Index: 53767 entries, 19_ISIC_0000000 to 20_ISIC_9999806\n",
      "Data columns (total 21 columns):\n",
      " #   Column                               Non-Null Count  Dtype  \n",
      "---  ------                               --------------  -----  \n",
      " 0   MEL                                  53767 non-null  int64  \n",
      " 1   NV                                   53767 non-null  int64  \n",
      " 2   BCC                                  53767 non-null  int64  \n",
      " 3   AK                                   53767 non-null  int64  \n",
      " 4   BKL                                  53767 non-null  int64  \n",
      " 5   DF                                   53767 non-null  int64  \n",
      " 6   VASC                                 53767 non-null  int64  \n",
      " 7   SCC                                  53767 non-null  int64  \n",
      " 8   UNK                                  53767 non-null  float64\n",
      " 9   age_approx                           53767 non-null  float64\n",
      " 10  sex_female                           53767 non-null  float64\n",
      " 11  sex_male                             53767 non-null  float64\n",
      " 12  anatom_site_general_anterior torso   53767 non-null  float64\n",
      " 13  anatom_site_general_head/neck        53767 non-null  float64\n",
      " 14  anatom_site_general_lateral torso    53767 non-null  float64\n",
      " 15  anatom_site_general_lower extremity  53767 non-null  float64\n",
      " 16  anatom_site_general_oral/genital     53767 non-null  float64\n",
      " 17  anatom_site_general_palms/soles      53767 non-null  float64\n",
      " 18  anatom_site_general_posterior torso  53767 non-null  float64\n",
      " 19  anatom_site_general_torso            53767 non-null  float64\n",
      " 20  anatom_site_general_upper extremity  53767 non-null  float64\n",
      "dtypes: float64(13), int64(8)\n",
      "memory usage: 9.0+ MB\n",
      "None\n",
      "MEL      4620\n",
      "NV      15059\n",
      "BCC      3245\n",
      "AK        845\n",
      "BKL      2330\n",
      "DF        235\n",
      "VASC      222\n",
      "SCC       622\n",
      "dtype: int64\n"
     ]
    }
   ],
   "source": [
    "#cargamos el dataset\n",
    "df = pd.read_csv ('/Users/luiseduardogarciablanco/Desktop/nueva data cancer/prueba_data_18_19_20/metadata_18_19_20_sin_NaN_code.csv', index_col=0)\n",
    "\n",
    "# Definir las columnas target y las columnas de entrada (features)\n",
    "target_columns = ['MEL', 'NV', 'BCC', 'AK', 'BKL', 'DF', 'VASC', 'SCC']\n",
    "input_columns = [col for col in df.columns if col not in target_columns]\n",
    "\n",
    "# Normalizar las características de entrada\n",
    "scaler = StandardScaler()\n",
    "df[input_columns] = scaler.fit_transform(df[input_columns])\n",
    "\n",
    "# Mostrar la información general del dataset\n",
    "print(df.info())\n",
    "\n",
    "# Dividir el DataFrame en entrenamiento y validación\n",
    "train_df, val_df = train_test_split(df, test_size=0.2, random_state=42)\n",
    "# Verificar la distribución de las clases\n",
    "print(df[target_columns].sum(axis=0))\n"
   ]
  },
  {
   "cell_type": "markdown",
   "metadata": {},
   "source": [
    "MEL  --  Melanoma\n",
    "NV   --  Melanocytic nevus\n",
    "BCC  --  Basal cell carcinoma\n",
    "AK   --  Actinic keratosis / Bowen’s disease (intraepithelial carcinoma)\n",
    "BKL  --  Benign keratosis (solar lentigo / seborrheic keratosis / lichen planus-like keratosis)\n",
    "DF   --  Dermatofibroma\n",
    "VASC --  Vascular lesion\n",
    "SCC  --  Squamous cell carcinoma\n",
    "UNK  --  None of the others"
   ]
  },
  {
   "cell_type": "markdown",
   "metadata": {},
   "source": [
    "Manejo del desbalanceo de clases con SMOTE\n",
    "\n",
    "Antes de aplicar SMOTE, es importante aclarar que SMOTE generalmente se usa para datos tabulares. Para datos de imágenes, aumentaremos las imágenes en las clases minoritarias más adelante.\n",
    "\n",
    "Este bloque aplica SMOTE a las columnas de características para corregir el desbalanceo. Ahora deberías tener un dataset más equilibrado.\n",
    "\n",
    "debemos asegurarnos de que las muestras resultantes después de aplicar SMOTE para cada clase tengan las mismas dimensiones. La forma más directa de hacerlo es aplicar SMOTE a un conjunto combinado de todas las etiquetas al mismo tiempo, en lugar de hacerlo por separado. Esto nos asegurará que todas las columnas tengan la misma cantidad de muestras."
   ]
  },
  {
   "cell_type": "code",
   "execution_count": 40,
   "metadata": {},
   "outputs": [
    {
     "name": "stdout",
     "output_type": "stream",
     "text": [
      "MEL     31209.0\n",
      "NV      31209.0\n",
      "BCC     31209.0\n",
      "AK      31209.0\n",
      "BKL     31209.0\n",
      "DF      31209.0\n",
      "VASC    31209.0\n",
      "SCC     31209.0\n",
      "dtype: float64\n"
     ]
    }
   ],
   "source": [
    "from imblearn.over_sampling import SMOTE\n",
    "from sklearn.model_selection import train_test_split\n",
    "\n",
    "# Definir las columnas de entrada y target\n",
    "input_columns = [col for col in df.columns if col not in target_columns]\n",
    "X = df[input_columns]\n",
    "y = df[target_columns]\n",
    "\n",
    "# Combinar las columnas target en un solo array (esto es necesario para que SMOTE funcione correctamente)\n",
    "y_combined = np.argmax(y.values, axis=1)  # Esto convierte las etiquetas multi-target en una sola\n",
    "\n",
    "# Aplicar SMOTE\n",
    "smote = SMOTE(random_state=42)\n",
    "X_resampled, y_resampled_combined = smote.fit_resample(X, y_combined)\n",
    "\n",
    "# Volver a expandir las etiquetas combinadas a su forma original\n",
    "y_resampled = np.zeros((y_resampled_combined.size, y.shape[1]))\n",
    "y_resampled[np.arange(y_resampled_combined.size), y_resampled_combined] = 1\n",
    "\n",
    "# Convertir a DataFrame\n",
    "X_resampled_df = pd.DataFrame(X_resampled, columns=input_columns)\n",
    "y_resampled_df = pd.DataFrame(y_resampled, columns=target_columns)\n",
    "\n",
    "# Verificar las nuevas distribuciones de las clases\n",
    "print(y_resampled_df.sum(axis=0))"
   ]
  },
  {
   "cell_type": "markdown",
   "metadata": {},
   "source": [
    "Usaremos ImageDataGenerator de Keras para cargar y aumentar las imágenes de manera eficiente."
   ]
  },
  {
   "cell_type": "markdown",
   "metadata": {},
   "source": [
    "primero generamos una columna nueva con el path de cada imagen"
   ]
  },
  {
   "cell_type": "code",
   "execution_count": 41,
   "metadata": {},
   "outputs": [
    {
     "data": {
      "text/plain": [
       "'\\n# Definir el path de la carpeta de imágenes\\nimage_dir = \"/Users/luiseduardogarciablanco/Desktop/nueva data cancer/prueba_data_18_19_20/imagenes\"\\n\\n# Crear una nueva columna \\'image_path\\' en el DataFrame con la ruta completa de cada imagen\\ndf[\\'image_path\\'] = df.index.to_series().apply(lambda x: os.path.join(image_dir, f\"{x}.jpg\"))\\n\\n# Verificar que las rutas se han generado correctamente\\ndf.head()  # Esto debería mostrar las primeras filas del DataFrame con la nueva columna \\'image_path\\'\\n'"
      ]
     },
     "execution_count": 41,
     "metadata": {},
     "output_type": "execute_result"
    }
   ],
   "source": [
    "import os\n",
    "'''\n",
    "# Definir el path de la carpeta de imágenes\n",
    "image_dir = \"/Users/luiseduardogarciablanco/Desktop/nueva data cancer/prueba_data_18_19_20/imagenes\"\n",
    "\n",
    "# Crear una nueva columna 'image_path' en el DataFrame con la ruta completa de cada imagen\n",
    "df['image_path'] = df.index.to_series().apply(lambda x: os.path.join(image_dir, f\"{x}.jpg\"))\n",
    "\n",
    "# Verificar que las rutas se han generado correctamente\n",
    "df.head()  # Esto debería mostrar las primeras filas del DataFrame con la nueva columna 'image_path'\n",
    "'''"
   ]
  },
  {
   "cell_type": "code",
   "execution_count": 42,
   "metadata": {},
   "outputs": [
    {
     "name": "stdout",
     "output_type": "stream",
     "text": [
      "(32, 256, 256, 3) (32, 8)\n"
     ]
    }
   ],
   "source": [
    "from tensorflow.keras.preprocessing.image import ImageDataGenerator\n",
    "import numpy as np\n",
    "import tensorflow as tf\n",
    "\n",
    "# Crear un generador de datos\n",
    "datagen = ImageDataGenerator(rescale=1./255)  # Normalizar las imágenes entre 0 y 1\n",
    "\n",
    "# Definir un generador personalizado\n",
    "def custom_image_generator(df, datagen, batch_size):\n",
    "    while True:\n",
    "        # Seleccionar lotes aleatorios\n",
    "        batch_df = df.sample(n=batch_size)\n",
    "\n",
    "        # Cargar las imágenes y los labels correspondientes\n",
    "        images = []\n",
    "        labels = []\n",
    "        for i, row in batch_df.iterrows():\n",
    "            img_path = f'/Users/luiseduardogarciablanco/Desktop/nueva data cancer/prueba_data_18_19_20/imagenes/{row.name}.jpg'\n",
    "            img = tf.keras.preprocessing.image.load_img(img_path, target_size=(256, 256))\n",
    "            img_array = tf.keras.preprocessing.image.img_to_array(img)\n",
    "            images.append(img_array)\n",
    "            labels.append(row[target_columns].values)  # Asegúrate de que target_columns está bien definida\n",
    "        \n",
    "        # Convertir a arrays de numpy\n",
    "        images = np.array(images)\n",
    "        labels = np.array(labels)\n",
    "        \n",
    "        # Usar el datagen para realizar augmentations si es necesario\n",
    "        yield datagen.flow(images, labels, batch_size=batch_size).__next__()\n",
    "\n",
    "# Tamaño del batch\n",
    "batch_size = 32\n",
    "\n",
    "# Crear el generador de entrenamiento\n",
    "train_generator = custom_image_generator(train_df, datagen, batch_size)\n",
    "\n",
    "# Crear el generador de validación\n",
    "val_generator = custom_image_generator(val_df, datagen, batch_size)\n",
    "\n",
    "# Ejemplo de cómo obtener un batch\n",
    "images, labels = next(train_generator)\n",
    "print(images.shape, labels.shape)"
   ]
  },
  {
   "cell_type": "markdown",
   "metadata": {},
   "source": [
    "Vamos a construir un modelo de red neuronal convolucional (CNN) con soporte para multitarget y agregar Dropout para prevenir el sobreajuste."
   ]
  },
  {
   "cell_type": "code",
   "execution_count": 43,
   "metadata": {},
   "outputs": [
    {
     "name": "stdout",
     "output_type": "stream",
     "text": [
      "Model: \"sequential_2\"\n",
      "_________________________________________________________________\n",
      " Layer (type)                Output Shape              Param #   \n",
      "=================================================================\n",
      " conv2d_6 (Conv2D)           (None, 254, 254, 32)      896       \n",
      "                                                                 \n",
      " max_pooling2d_6 (MaxPoolin  (None, 127, 127, 32)      0         \n",
      " g2D)                                                            \n",
      "                                                                 \n",
      " dropout_8 (Dropout)         (None, 127, 127, 32)      0         \n",
      "                                                                 \n",
      " conv2d_7 (Conv2D)           (None, 125, 125, 64)      18496     \n",
      "                                                                 \n",
      " max_pooling2d_7 (MaxPoolin  (None, 62, 62, 64)        0         \n",
      " g2D)                                                            \n",
      "                                                                 \n",
      " dropout_9 (Dropout)         (None, 62, 62, 64)        0         \n",
      "                                                                 \n",
      " conv2d_8 (Conv2D)           (None, 60, 60, 128)       73856     \n",
      "                                                                 \n",
      " max_pooling2d_8 (MaxPoolin  (None, 30, 30, 128)       0         \n",
      " g2D)                                                            \n",
      "                                                                 \n",
      " dropout_10 (Dropout)        (None, 30, 30, 128)       0         \n",
      "                                                                 \n",
      " flatten_2 (Flatten)         (None, 115200)            0         \n",
      "                                                                 \n",
      " dense_4 (Dense)             (None, 128)               14745728  \n",
      "                                                                 \n",
      " dropout_11 (Dropout)        (None, 128)               0         \n",
      "                                                                 \n",
      " dense_5 (Dense)             (None, 8)                 1032      \n",
      "                                                                 \n",
      "=================================================================\n",
      "Total params: 14840008 (56.61 MB)\n",
      "Trainable params: 14840008 (56.61 MB)\n",
      "Non-trainable params: 0 (0.00 Byte)\n",
      "_________________________________________________________________\n"
     ]
    }
   ],
   "source": [
    "# Definir el modelo\n",
    "model = Sequential()\n",
    "\n",
    "# Añadir capas de la CNN\n",
    "model.add(Conv2D(32, (3, 3), activation='relu', input_shape=(256, 256, 3)))\n",
    "model.add(MaxPooling2D((2, 2)))\n",
    "model.add(Dropout(0.25))\n",
    "\n",
    "model.add(Conv2D(64, (3, 3), activation='relu'))\n",
    "model.add(MaxPooling2D((2, 2)))\n",
    "model.add(Dropout(0.25))\n",
    "\n",
    "model.add(Conv2D(128, (3, 3), activation='relu'))\n",
    "model.add(MaxPooling2D((2, 2)))\n",
    "model.add(Dropout(0.25))\n",
    "\n",
    "model.add(Flatten())\n",
    "model.add(Dense(128, activation='relu'))\n",
    "model.add(Dropout(0.5))\n",
    "\n",
    "# Capa de salida para multitarget\n",
    "model.add(Dense(len(target_columns), activation='sigmoid'))\n",
    "\n",
    "# Compilar el modelo\n",
    "model.compile(optimizer='adam', loss='binary_crossentropy', metrics=['accuracy'])\n",
    "\n",
    "# Mostrar la estructura del modelo\n",
    "model.summary()"
   ]
  },
  {
   "cell_type": "markdown",
   "metadata": {},
   "source": [
    "Finalmente, entrenaremos el modelo con un callback para reducir la tasa de aprendizaje cuando el entrenamiento se estanque."
   ]
  },
  {
   "cell_type": "code",
   "execution_count": 44,
   "metadata": {},
   "outputs": [
    {
     "name": "stdout",
     "output_type": "stream",
     "text": [
      "Epoch 1/25\n"
     ]
    },
    {
     "name": "stderr",
     "output_type": "stream",
     "text": [
      "2024-08-23 14:14:44.344578: I tensorflow/core/grappler/optimizers/custom_graph_optimizer_registry.cc:114] Plugin optimizer for device_type GPU is enabled.\n"
     ]
    },
    {
     "name": "stdout",
     "output_type": "stream",
     "text": [
      "1344/1344 [==============================] - ETA: 0s - loss: 0.1541 - accuracy: 0.3694"
     ]
    },
    {
     "name": "stderr",
     "output_type": "stream",
     "text": [
      "2024-08-23 14:16:55.654183: I tensorflow/core/grappler/optimizers/custom_graph_optimizer_registry.cc:114] Plugin optimizer for device_type GPU is enabled.\n"
     ]
    },
    {
     "name": "stdout",
     "output_type": "stream",
     "text": [
      "1344/1344 [==============================] - 142s 105ms/step - loss: 0.1541 - accuracy: 0.3694 - val_loss: 0.1320 - val_accuracy: 0.4823 - lr: 0.0010\n",
      "Epoch 2/25\n",
      "1344/1344 [==============================] - 142s 105ms/step - loss: 0.1445 - accuracy: 0.4544 - val_loss: 0.1332 - val_accuracy: 0.3546 - lr: 0.0010\n",
      "Epoch 3/25\n",
      "1344/1344 [==============================] - 142s 105ms/step - loss: 0.1888 - accuracy: 0.4417 - val_loss: 0.1938 - val_accuracy: 0.2911 - lr: 0.0010\n",
      "Epoch 4/25\n",
      "1344/1344 [==============================] - 142s 105ms/step - loss: 0.6496 - accuracy: 0.4030 - val_loss: 0.4824 - val_accuracy: 0.3158 - lr: 0.0010\n",
      "Epoch 5/25\n",
      "1344/1344 [==============================] - 141s 105ms/step - loss: 1.4812 - accuracy: 0.3989 - val_loss: 2.2445 - val_accuracy: 0.3024 - lr: 2.0000e-04\n",
      "Epoch 6/25\n",
      "1344/1344 [==============================] - 142s 106ms/step - loss: 4.6974 - accuracy: 0.3810 - val_loss: 3.6512 - val_accuracy: 0.6820 - lr: 2.0000e-04\n"
     ]
    },
    {
     "data": {
      "image/png": "[encoded data removed]",
      "text/plain": [
       "<Figure size 640x480 with 1 Axes>"
      ]
     },
     "metadata": {},
     "output_type": "display_data"
    }
   ],
   "source": [
    "# Definir callbacks\n",
    "early_stopping = EarlyStopping(monitor='val_loss', patience=5, restore_best_weights=True)\n",
    "reduce_lr = ReduceLROnPlateau(monitor='val_loss', factor=0.2, patience=3)\n",
    "\n",
    "# Entrenar el modelo\n",
    "history = model.fit(\n",
    "    train_generator,\n",
    "    steps_per_epoch=len(train_df) // 32,\n",
    "    validation_data=val_generator,\n",
    "    validation_steps=len(val_df) // 32,\n",
    "    epochs=25,\n",
    "    callbacks=[early_stopping, reduce_lr]\n",
    ")\n",
    "\n",
    "\n",
    "\n",
    "# Graficar la evolución del entrenamiento\n",
    "plt.plot(history.history['accuracy'])\n",
    "plt.plot(history.history['val_accuracy'])\n",
    "plt.title('Model accuracy')\n",
    "plt.ylabel('Accuracy')\n",
    "plt.xlabel('Epoch')\n",
    "plt.legend(['Train', 'Validation'], loc='upper left')\n",
    "plt.show()"
   ]
  },
  {
   "cell_type": "code",
   "execution_count": 46,
   "metadata": {},
   "outputs": [],
   "source": [
    "# Guardar el modelo\n",
    "model.save('/Users/luiseduardogarciablanco/Desktop/bootcamp/Proyecto_Final_Cancer/models/modelo_prueba.h5')"
   ]
  },
  {
   "cell_type": "code",
   "execution_count": 47,
   "metadata": {},
   "outputs": [
    {
     "data": {
      "image/png": "[encoded data removed]",
      "text/plain": [
       "<Figure size 640x480 with 1 Axes>"
      ]
     },
     "metadata": {},
     "output_type": "display_data"
    }
   ],
   "source": [
    "# Graficar la evolución del entrenamiento\n",
    "plt.plot(history.history['accuracy'])\n",
    "plt.plot(history.history['val_accuracy'])\n",
    "plt.title('Model accuracy')\n",
    "plt.ylabel('Accuracy')\n",
    "plt.xlabel('Epoch')\n",
    "plt.legend(['Train', 'Validation'], loc='upper left')\n",
    "plt.show()"
   ]
  },
  {
   "cell_type": "code",
   "execution_count": 48,
   "metadata": {},
   "outputs": [
    {
     "name": "stdout",
     "output_type": "stream",
     "text": [
      "336/336 [==============================] - 11s 32ms/step - loss: 0.1343 - accuracy: 0.4749\n",
      "Validation Loss: 0.13425034284591675\n",
      "Validation Accuracy: 0.4748883843421936\n"
     ]
    }
   ],
   "source": [
    "# Evaluar el modelo en el conjunto de validación\n",
    "val_loss, val_accuracy = model.evaluate(val_generator, steps=len(val_df) // batch_size)\n",
    "\n",
    "print(f'Validation Loss: {val_loss}')\n",
    "print(f'Validation Accuracy: {val_accuracy}')"
   ]
  },
  {
   "cell_type": "code",
   "execution_count": 49,
   "metadata": {},
   "outputs": [
    {
     "name": "stdout",
     "output_type": "stream",
     "text": [
      "1/1 [==============================] - 0s 16ms/step\n",
      "Predictions:\n",
      "[[0.1566557  0.35873014 0.04950984 0.01831486 0.08476964 0.00429237\n",
      "  0.00432544 0.00789329]\n",
      " [0.02603152 0.01811418 0.02185223 0.00504113 0.01794935 0.00233563\n",
      "  0.00311419 0.00496203]\n",
      " [0.01663694 0.0133175  0.00998198 0.00268454 0.01011718 0.00093261\n",
      "  0.00118019 0.00227283]\n",
      " [0.29855937 0.4409299  0.36732617 0.10973371 0.20089668 0.08074894\n",
      "  0.07882529 0.10742828]\n",
      " [0.36423516 0.21628283 0.549307   0.11266102 0.16795976 0.01709151\n",
      "  0.01216203 0.06742866]]\n",
      "True Labels:\n",
      "[[0. 0. 0. 0. 0. 0. 0. 0.]\n",
      " [0. 0. 0. 0. 0. 0. 0. 0.]\n",
      " [0. 0. 0. 0. 0. 0. 0. 0.]\n",
      " [0. 0. 1. 0. 0. 0. 0. 0.]\n",
      " [1. 0. 0. 0. 0. 0. 0. 0.]]\n"
     ]
    }
   ],
   "source": [
    "# Hacer predicciones en el conjunto de validación\n",
    "val_images, val_labels = next(custom_image_generator(val_df, datagen, batch_size))  # Obtén un batch de datos\n",
    "\n",
    "# Realizar la predicción\n",
    "predictions = model.predict(val_images)\n",
    "\n",
    "# Mostrar las primeras predicciones y las etiquetas reales\n",
    "print(\"Predictions:\")\n",
    "print(predictions[:5])\n",
    "\n",
    "print(\"True Labels:\")\n",
    "print(val_labels[:5])"
   ]
  },
  {
   "cell_type": "code",
   "execution_count": 50,
   "metadata": {},
   "outputs": [
    {
     "name": "stdout",
     "output_type": "stream",
     "text": [
      "1/1 [==============================] - 0s 16ms/step\n"
     ]
    },
    {
     "ename": "ValueError",
     "evalue": "Number of classes, 6, does not match size of target_names, 8. Try specifying the labels parameter",
     "output_type": "error",
     "traceback": [
      "\u001b[0;31m---------------------------------------------------------------------------\u001b[0m",
      "\u001b[0;31mValueError\u001b[0m                                Traceback (most recent call last)",
      "Cell \u001b[0;32mIn[50], line 15\u001b[0m\n\u001b[1;32m     12\u001b[0m true_labels \u001b[38;5;241m=\u001b[39m np\u001b[38;5;241m.\u001b[39margmax(val_labels, axis\u001b[38;5;241m=\u001b[39m\u001b[38;5;241m1\u001b[39m)\n\u001b[1;32m     14\u001b[0m \u001b[38;5;66;03m# Generar el informe de clasificación\u001b[39;00m\n\u001b[0;32m---> 15\u001b[0m report \u001b[38;5;241m=\u001b[39m \u001b[43mclassification_report\u001b[49m\u001b[43m(\u001b[49m\u001b[43mtrue_labels\u001b[49m\u001b[43m,\u001b[49m\u001b[43m \u001b[49m\u001b[43mpred_labels\u001b[49m\u001b[43m,\u001b[49m\u001b[43m \u001b[49m\u001b[43mtarget_names\u001b[49m\u001b[38;5;241;43m=\u001b[39;49m\u001b[43mtarget_columns\u001b[49m\u001b[43m)\u001b[49m\n\u001b[1;32m     17\u001b[0m \u001b[38;5;28mprint\u001b[39m(\u001b[38;5;124m\"\u001b[39m\u001b[38;5;124mClassification Report:\u001b[39m\u001b[38;5;124m\"\u001b[39m)\n\u001b[1;32m     18\u001b[0m \u001b[38;5;28mprint\u001b[39m(report)\n",
      "File \u001b[0;32m~/tensorflow-test/env/lib/python3.8/site-packages/sklearn/utils/_param_validation.py:214\u001b[0m, in \u001b[0;36mvalidate_params.<locals>.decorator.<locals>.wrapper\u001b[0;34m(*args, **kwargs)\u001b[0m\n\u001b[1;32m    208\u001b[0m \u001b[38;5;28;01mtry\u001b[39;00m:\n\u001b[1;32m    209\u001b[0m     \u001b[38;5;28;01mwith\u001b[39;00m config_context(\n\u001b[1;32m    210\u001b[0m         skip_parameter_validation\u001b[38;5;241m=\u001b[39m(\n\u001b[1;32m    211\u001b[0m             prefer_skip_nested_validation \u001b[38;5;129;01mor\u001b[39;00m global_skip_validation\n\u001b[1;32m    212\u001b[0m         )\n\u001b[1;32m    213\u001b[0m     ):\n\u001b[0;32m--> 214\u001b[0m         \u001b[38;5;28;01mreturn\u001b[39;00m \u001b[43mfunc\u001b[49m\u001b[43m(\u001b[49m\u001b[38;5;241;43m*\u001b[39;49m\u001b[43margs\u001b[49m\u001b[43m,\u001b[49m\u001b[43m \u001b[49m\u001b[38;5;241;43m*\u001b[39;49m\u001b[38;5;241;43m*\u001b[39;49m\u001b[43mkwargs\u001b[49m\u001b[43m)\u001b[49m\n\u001b[1;32m    215\u001b[0m \u001b[38;5;28;01mexcept\u001b[39;00m InvalidParameterError \u001b[38;5;28;01mas\u001b[39;00m e:\n\u001b[1;32m    216\u001b[0m     \u001b[38;5;66;03m# When the function is just a wrapper around an estimator, we allow\u001b[39;00m\n\u001b[1;32m    217\u001b[0m     \u001b[38;5;66;03m# the function to delegate validation to the estimator, but we replace\u001b[39;00m\n\u001b[1;32m    218\u001b[0m     \u001b[38;5;66;03m# the name of the estimator by the name of the function in the error\u001b[39;00m\n\u001b[1;32m    219\u001b[0m     \u001b[38;5;66;03m# message to avoid confusion.\u001b[39;00m\n\u001b[1;32m    220\u001b[0m     msg \u001b[38;5;241m=\u001b[39m re\u001b[38;5;241m.\u001b[39msub(\n\u001b[1;32m    221\u001b[0m         \u001b[38;5;124mr\u001b[39m\u001b[38;5;124m\"\u001b[39m\u001b[38;5;124mparameter of \u001b[39m\u001b[38;5;124m\\\u001b[39m\u001b[38;5;124mw+ must be\u001b[39m\u001b[38;5;124m\"\u001b[39m,\n\u001b[1;32m    222\u001b[0m         \u001b[38;5;124mf\u001b[39m\u001b[38;5;124m\"\u001b[39m\u001b[38;5;124mparameter of \u001b[39m\u001b[38;5;132;01m{\u001b[39;00mfunc\u001b[38;5;241m.\u001b[39m\u001b[38;5;18m__qualname__\u001b[39m\u001b[38;5;132;01m}\u001b[39;00m\u001b[38;5;124m must be\u001b[39m\u001b[38;5;124m\"\u001b[39m,\n\u001b[1;32m    223\u001b[0m         \u001b[38;5;28mstr\u001b[39m(e),\n\u001b[1;32m    224\u001b[0m     )\n",
      "File \u001b[0;32m~/tensorflow-test/env/lib/python3.8/site-packages/sklearn/metrics/_classification.py:2567\u001b[0m, in \u001b[0;36mclassification_report\u001b[0;34m(y_true, y_pred, labels, target_names, sample_weight, digits, output_dict, zero_division)\u001b[0m\n\u001b[1;32m   2561\u001b[0m         warnings\u001b[38;5;241m.\u001b[39mwarn(\n\u001b[1;32m   2562\u001b[0m             \u001b[38;5;124m\"\u001b[39m\u001b[38;5;124mlabels size, \u001b[39m\u001b[38;5;132;01m{0}\u001b[39;00m\u001b[38;5;124m, does not match size of target_names, \u001b[39m\u001b[38;5;132;01m{1}\u001b[39;00m\u001b[38;5;124m\"\u001b[39m\u001b[38;5;241m.\u001b[39mformat(\n\u001b[1;32m   2563\u001b[0m                 \u001b[38;5;28mlen\u001b[39m(labels), \u001b[38;5;28mlen\u001b[39m(target_names)\n\u001b[1;32m   2564\u001b[0m             )\n\u001b[1;32m   2565\u001b[0m         )\n\u001b[1;32m   2566\u001b[0m     \u001b[38;5;28;01melse\u001b[39;00m:\n\u001b[0;32m-> 2567\u001b[0m         \u001b[38;5;28;01mraise\u001b[39;00m \u001b[38;5;167;01mValueError\u001b[39;00m(\n\u001b[1;32m   2568\u001b[0m             \u001b[38;5;124m\"\u001b[39m\u001b[38;5;124mNumber of classes, \u001b[39m\u001b[38;5;132;01m{0}\u001b[39;00m\u001b[38;5;124m, does not match size of \u001b[39m\u001b[38;5;124m\"\u001b[39m\n\u001b[1;32m   2569\u001b[0m             \u001b[38;5;124m\"\u001b[39m\u001b[38;5;124mtarget_names, \u001b[39m\u001b[38;5;132;01m{1}\u001b[39;00m\u001b[38;5;124m. Try specifying the labels \u001b[39m\u001b[38;5;124m\"\u001b[39m\n\u001b[1;32m   2570\u001b[0m             \u001b[38;5;124m\"\u001b[39m\u001b[38;5;124mparameter\u001b[39m\u001b[38;5;124m\"\u001b[39m\u001b[38;5;241m.\u001b[39mformat(\u001b[38;5;28mlen\u001b[39m(labels), \u001b[38;5;28mlen\u001b[39m(target_names))\n\u001b[1;32m   2571\u001b[0m         )\n\u001b[1;32m   2572\u001b[0m \u001b[38;5;28;01mif\u001b[39;00m target_names \u001b[38;5;129;01mis\u001b[39;00m \u001b[38;5;28;01mNone\u001b[39;00m:\n\u001b[1;32m   2573\u001b[0m     target_names \u001b[38;5;241m=\u001b[39m [\u001b[38;5;124m\"\u001b[39m\u001b[38;5;132;01m%s\u001b[39;00m\u001b[38;5;124m\"\u001b[39m \u001b[38;5;241m%\u001b[39m l \u001b[38;5;28;01mfor\u001b[39;00m l \u001b[38;5;129;01min\u001b[39;00m labels]\n",
      "\u001b[0;31mValueError\u001b[0m: Number of classes, 6, does not match size of target_names, 8. Try specifying the labels parameter"
     ]
    }
   ],
   "source": [
    "import numpy as np\n",
    "from sklearn.metrics import classification_report\n",
    "\n",
    "# Hacer predicciones en el conjunto de validación\n",
    "val_images, val_labels = next(custom_image_generator(val_df, datagen, batch_size))\n",
    "predictions = model.predict(val_images)\n",
    "\n",
    "# Convertir las predicciones a etiquetas de clase\n",
    "pred_labels = np.argmax(predictions, axis=1)\n",
    "\n",
    "# Convertir las etiquetas verdaderas a formato de clase\n",
    "true_labels = np.argmax(val_labels, axis=1)\n",
    "\n",
    "# Generar el informe de clasificación\n",
    "report = classification_report(true_labels, pred_labels, target_names=target_columns)\n",
    "\n",
    "print(\"Classification Report:\")\n",
    "print(report)"
   ]
  },
  {
   "cell_type": "code",
   "execution_count": 51,
   "metadata": {},
   "outputs": [
    {
     "name": "stdout",
     "output_type": "stream",
     "text": [
      "1/1 [==============================] - 0s 16ms/step\n",
      "Classification Report:\n",
      "              precision    recall  f1-score   support\n",
      "\n",
      "         MEL       0.86      0.29      0.43        21\n",
      "          NV       0.29      0.86      0.43         7\n",
      "         BCC       0.25      0.50      0.33         2\n",
      "          AK       0.00      0.00      0.00         1\n",
      "         BKL       0.00      0.00      0.00         1\n",
      "          DF       0.00      0.00      0.00         0\n",
      "\n",
      "   micro avg       0.41      0.41      0.41        32\n",
      "   macro avg       0.23      0.27      0.20        32\n",
      "weighted avg       0.64      0.41      0.40        32\n",
      "\n"
     ]
    }
   ],
   "source": [
    "target_columns = ['MEL', 'NV', 'BCC', 'AK', 'BKL', 'DF']\n",
    "from sklearn.metrics import classification_report\n",
    "\n",
    "# Hacer predicciones en el conjunto de validación\n",
    "val_images, val_labels = next(custom_image_generator(val_df, datagen, batch_size))\n",
    "predictions = model.predict(val_images)\n",
    "\n",
    "# Convertir las predicciones a etiquetas de clase\n",
    "pred_labels = np.argmax(predictions, axis=1)\n",
    "\n",
    "# Convertir las etiquetas verdaderas a formato de clase\n",
    "true_labels = np.argmax(val_labels, axis=1)\n",
    "\n",
    "# Especificar las etiquetas y nombres de las clases\n",
    "labels = range(len(target_columns))  # Asegúrate de que esto coincida con el número de clases en tu modelo\n",
    "report = classification_report(true_labels, pred_labels, labels=labels, target_names=target_columns)\n",
    "\n",
    "print(\"Classification Report:\")\n",
    "print(report)"
   ]
  },
  {
   "cell_type": "markdown",
   "metadata": {},
   "source": [
    "hay clases que tienen muy pocas muestras y el dataseet en general aparece muy desbalancado, por eso descartarmos las pruebas multiclase, seguiremos con otras pruebas"
   ]
  }
 ],
 "metadata": {
  "kernelspec": {
   "display_name": "Python 3",
   "language": "python",
   "name": "python3"
  },
  "language_info": {
   "codemirror_mode": {
    "name": "ipython",
    "version": 3
   },
   "file_extension": ".py",
   "mimetype": "text/x-python",
   "name": "python",
   "nbconvert_exporter": "python",
   "pygments_lexer": "ipython3",
   "version": "3.8.19"
  }
 },
 "nbformat": 4,
 "nbformat_minor": 2
}
