{
 "cells": [
  {
   "cell_type": "markdown",
   "metadata": {},
   "source": [
    "Este modulo se utilizo para la descarga de datos en la web directa del sitio \"https://challenge.isic-archive.com/\"\n",
    "\n",
    "Se descargaron daos del archivo de 2016, 2017, 2018 y 2019 \n",
    "\n",
    "El archivo ccorrespondiente a 2020 y 2024 se descargó de la pagina de \"https://www.kaggle.com/\" a travez de su API nativa"
   ]
  },
  {
   "cell_type": "code",
   "execution_count": null,
   "metadata": {},
   "outputs": [],
   "source": [
    "import os\n",
    "import requests\n",
    "\n",
    "# Función para crear una carpeta si no existe\n",
    "def crear_carpeta(directorio, nombre_carpeta):\n",
    "    ruta_completa = os.path.join(directorio, nombre_carpeta)\n",
    "    if not os.path.exists(ruta_completa):\n",
    "        os.makedirs(ruta_completa)\n",
    "    return ruta_completa\n",
    "\n",
    "# Función para descargar un archivo desde una URL\n",
    "def descargar_archivo(url, ruta_carpeta, nombre_archivo, archivos_descargados):\n",
    "    respuesta = requests.get(url)\n",
    "    ruta_completa = os.path.join(ruta_carpeta, nombre_archivo)\n",
    "    with open(ruta_completa, 'wb') as archivo:\n",
    "        archivo.write(respuesta.content)\n",
    "    print(f'{nombre_archivo} descargado con éxito en {ruta_completa}.')\n",
    "    archivos_descargados.append(nombre_archivo)\n",
    "\n",
    "\n",
    "# Especifica el directorio base y el nombre de la nueva carpeta\n",
    "directorio_base = '/Users/luiseduardogarciablanco/Desktop/nueva data cancer'  \n",
    "nombre_carpeta = '2016'\n",
    "\n",
    "# Crear la carpeta en la ruta especificada\n",
    "ruta_carpeta = crear_carpeta(directorio_base, nombre_carpeta)\n",
    "\n",
    "# URLs de los archivos\n",
    "url_zip = 'https://isic-challenge-data.s3.amazonaws.com/2016/ISBI2016_ISIC_Part3_Training_Data.zip'\n",
    "url_csv = 'https://isic-challenge-data.s3.amazonaws.com/2016/ISBI2016_ISIC_Part3_Training_GroundTruth.csv'\n",
    "\n",
    "# Nombres de los archivos que se guardarán en la nueva carpeta\n",
    "nombre_archivo_zip = 'ISBI2016_ISIC_Part3_Training_Data.zip'\n",
    "nombre_archivo_csv = 'ISBI2016_ISIC_Part3_Training_GroundTruth.csv'\n",
    "\n",
    "# Lista para guardar los nombres de los archivos descargados\n",
    "archivos_descargados = []\n",
    "\n",
    "# Descargar los archivos en la carpeta creada\n",
    "descargar_archivo(url_zip, ruta_carpeta, nombre_archivo_zip, archivos_descargados)\n",
    "descargar_archivo(url_csv, ruta_carpeta, nombre_archivo_csv, archivos_descargados)\n",
    "\n",
    "# Imprimir los archivos descargados con éxito\n",
    "print(\"\\nArchivos descargados con éxito:\")\n",
    "for archivo in archivos_descargados:\n",
    "    print(f'- {archivo}')\n",
    "\n"
   ]
  }
 ],
 "metadata": {
  "language_info": {
   "name": "python"
  }
 },
 "nbformat": 4,
 "nbformat_minor": 2
}
