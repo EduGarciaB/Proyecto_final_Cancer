{
 "cells": [
  {
   "cell_type": "code",
   "execution_count": null,
   "metadata": {},
   "outputs": [],
   "source": [
    "import pandas as pd\n",
    "import joblib\n",
    "import os\n",
    "import numpy as np\n",
    "from PIL import Image\n",
    "from tensorflow.keras.models import load_model\n",
    "from tensorflow.keras.applications.resnet50 import preprocess_input\n",
    "from tkinter import Tk\n",
    "\n"
   ]
  },
  {
   "cell_type": "code",
   "execution_count": 26,
   "metadata": {},
   "outputs": [
    {
     "name": "stdout",
     "output_type": "stream",
     "text": [
      "Forma de la imagen preprocesada: (1, 256, 256, 3)\n"
     ]
    },
    {
     "name": "stderr",
     "output_type": "stream",
     "text": [
      "2024-09-04 21:21:42.127789: I tensorflow/core/grappler/optimizers/custom_graph_optimizer_registry.cc:114] Plugin optimizer for device_type GPU is enabled.\n"
     ]
    },
    {
     "name": "stdout",
     "output_type": "stream",
     "text": [
      "1/1 [==============================] - 1s 1s/step\n",
      "Predicción de la imagen: [0.9997173]\n"
     ]
    }
   ],
   "source": [
    "\n",
    "# Definir la función de preprocesamiento de la imagen\n",
    "def preprocess_image(image_path, size=(256, 256)):\n",
    "    with Image.open(image_path) as img:\n",
    "        img = img.resize(size)\n",
    "        img_array = np.array(img)\n",
    "        img_array = preprocess_input(img_array)  # Normalización específica de ResNet50\n",
    "        img_array = np.expand_dims(img_array, axis=0)  # Añadir dimensión para el batch\n",
    "        return img_array\n",
    "\n",
    "# Función para predecir con el modelo de imagen\n",
    "def predict_image(image_path, image_model):\n",
    "    img = preprocess_image(image_path)\n",
    "    img_pred = image_model.predict(img)\n",
    "    return img_pred.flatten()  # Aplanar para que tenga la forma correcta\n",
    "\n",
    "# Cargar el modelo de imágenes\n",
    "image_model_path = '/Users/luiseduardogarciablanco/Desktop/bootcamp/Flask_proyecto_cancer/static/model/resnet50_fine_tuned_model_20.h5'\n",
    "image_model = load_model(image_model_path)\n",
    "\n",
    "# Ruta a la imagen para la prueba\n",
    "# Crear una ventana para seleccionar la imagen\n",
    "Tk().withdraw()  # Ocultar la ventana principal\n",
    "example_image_path = askopenfilename(title=\"Selecciona una imagen\", filetypes=[(\"Archivos de imagen\", \"*.jpg\")])\n",
    "#example_image_path = '/Users/luiseduardogarciablanco/Desktop/nueva data cancer/test web/jpg_ensambled_model/ISIC_5046058.jpg'\n",
    "\n",
    "# Probar la función de preprocesamiento y predicción de la imagen\n",
    "preprocessed_image = preprocess_image(example_image_path)\n",
    "print(\"Forma de la imagen preprocesada:\", preprocessed_image.shape)\n",
    "\n",
    "image_prediction = predict_image(example_image_path, image_model)\n",
    "print(\"Predicción de la imagen:\", image_prediction)"
   ]
  },
  {
   "cell_type": "code",
   "execution_count": 27,
   "metadata": {},
   "outputs": [
    {
     "name": "stdout",
     "output_type": "stream",
     "text": [
      "Predicción de metadatos: [0.75518262]\n"
     ]
    }
   ],
   "source": [
    "\n",
    "\n",
    "# Cargar el dataset\n",
    "df = pd.read_csv(\"/Users/luiseduardogarciablanco/Desktop/bootcamp/Flask_proyecto_cancer/static/data/dataset_flask.csv\")\n",
    "\n",
    "# Función para extraer el image_id del path\n",
    "def extract_image_id_from_path(image_path):\n",
    "    # Extraer el nombre del archivo con extensión\n",
    "    base_name = os.path.basename(image_path)\n",
    "    # Obtener el nombre del archivo sin extensión\n",
    "    image_id = os.path.splitext(base_name)[0]\n",
    "    return image_id\n",
    "\n",
    "# Función para predecir con el modelo de metadatos\n",
    "def predict_metadata(df, metadata_model, image_id):\n",
    "    # Obtener los metadatos correspondientes al image_id\n",
    "    metadata = df[df['isic_id'] == image_id].drop(columns=['isic_id', 'target'])\n",
    "    \n",
    "    # Predicción del modelo de metadatos\n",
    "    pred = metadata_model.predict_proba(metadata)[:, 1]  # Probabilidad de la clase positiva\n",
    "    \n",
    "    return pred\n",
    "\n",
    "# Cargar el modelo de metadatos\n",
    "metadata_model_path = '/Users/luiseduardogarciablanco/Desktop/bootcamp/Flask_proyecto_cancer/static/model/metadata_model.pkl'\n",
    "metadata_model = joblib.load(metadata_model_path)\n",
    "\n",
    "# ID de ejemplo para la prueba\n",
    "example_image_id = extract_image_id_from_path(example_image_path)\n",
    "\n",
    "# Probar la función de predicción de metadatos\n",
    "metadata_prediction = predict_metadata(df, metadata_model, example_image_id)\n",
    "print(\"Predicción de metadatos:\", metadata_prediction)"
   ]
  },
  {
   "cell_type": "code",
   "execution_count": 28,
   "metadata": {},
   "outputs": [
    {
     "name": "stderr",
     "output_type": "stream",
     "text": [
      "2024-09-04 21:21:57.585501: I tensorflow/core/grappler/optimizers/custom_graph_optimizer_registry.cc:114] Plugin optimizer for device_type GPU is enabled.\n"
     ]
    },
    {
     "name": "stdout",
     "output_type": "stream",
     "text": [
      "1/1 [==============================] - 1s 905ms/step\n",
      "Predicción del modelo ensamblador: 1\n"
     ]
    }
   ],
   "source": [
    "\n",
    "# Funciones previamente definidas (preprocess_image, predict_image, extract_image_id_from_path, predict_metadata)\n",
    "\n",
    "def predict_ensemble(image_path, df, image_model, metadata_model, ensemble_model):\n",
    "    # Obtener el image_id (sin extensión .jpg)\n",
    "    image_id = extract_image_id_from_path(example_image_path)\n",
    "    \n",
    "    # Obtener la predicción de la imagen\n",
    "    image_pred = predict_image(example_image_path, image_model)\n",
    "    \n",
    "    # Obtener la predicción de los metadatos\n",
    "    metadata_pred = predict_metadata(df, metadata_model, image_id)\n",
    "    \n",
    "    # Combinar las predicciones\n",
    "    features = np.concatenate([image_pred, metadata_pred])\n",
    "    \n",
    "    # Realizar la predicción con el modelo ensamblador\n",
    "    ensemble_pred = ensemble_model.predict([features])\n",
    "    return ensemble_pred[0]\n",
    "\n",
    "# Cargar los modelos\n",
    "image_model_path = '/Users/luiseduardogarciablanco/Desktop/bootcamp/Flask_proyecto_cancer/static/model/resnet50_fine_tuned_model_20.h5'\n",
    "image_model = load_model(image_model_path)\n",
    "\n",
    "metadata_model_path = '/Users/luiseduardogarciablanco/Desktop/bootcamp/Flask_proyecto_cancer/static/model/metadata_model.pkl'\n",
    "metadata_model = joblib.load(metadata_model_path)\n",
    "\n",
    "ensemble_model_path = '/Users/luiseduardogarciablanco/Desktop/bootcamp/Flask_proyecto_cancer/static/model/ensemble_model.pkl'\n",
    "ensemble_model = joblib.load(ensemble_model_path)\n",
    "\n",
    "\n",
    "# Probar la función de predicción del modelo ensamblador\n",
    "ensemble_prediction = predict_ensemble(example_image_path, df, image_model, metadata_model, ensemble_model)\n",
    "print(\"Predicción del modelo ensamblador:\", ensemble_prediction)"
   ]
  }
 ],
 "metadata": {
  "kernelspec": {
   "display_name": "Python 3",
   "language": "python",
   "name": "python3"
  },
  "language_info": {
   "codemirror_mode": {
    "name": "ipython",
    "version": 3
   },
   "file_extension": ".py",
   "mimetype": "text/x-python",
   "name": "python",
   "nbconvert_exporter": "python",
   "pygments_lexer": "ipython3",
   "version": "3.8.19"
  }
 },
 "nbformat": 4,
 "nbformat_minor": 2
}
